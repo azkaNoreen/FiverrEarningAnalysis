{
 "cells": [
  {
   "cell_type": "code",
   "execution_count": 17,
   "metadata": {},
   "outputs": [],
   "source": [
    "import pandas as pd\n",
    "import numpy as np\n"
   ]
  },
  {
   "cell_type": "code",
   "execution_count": 32,
   "metadata": {},
   "outputs": [],
   "source": [
    "data=pd.read_csv(\"fiverr_revenues_2022.csv\")"
   ]
  },
  {
   "cell_type": "code",
   "execution_count": 33,
   "metadata": {},
   "outputs": [
    {
     "data": {
      "text/plain": [
       "226"
      ]
     },
     "execution_count": 33,
     "metadata": {},
     "output_type": "execute_result"
    }
   ],
   "source": [
    "len(data)"
   ]
  },
  {
   "cell_type": "code",
   "execution_count": 34,
   "metadata": {},
   "outputs": [],
   "source": [
    "#canceled orders\n",
    "data=data[data['Buyer']!=\"bodhivida\"]\n",
    "data=data[data['Buyer']!=\"kareembrown799\"]\n",
    "\n",
    "data=data[data['Type']==\"Order Revenue\"]"
   ]
  },
  {
   "cell_type": "code",
   "execution_count": 35,
   "metadata": {},
   "outputs": [
    {
     "data": {
      "text/html": [
       "<div>\n",
       "<style scoped>\n",
       "    .dataframe tbody tr th:only-of-type {\n",
       "        vertical-align: middle;\n",
       "    }\n",
       "\n",
       "    .dataframe tbody tr th {\n",
       "        vertical-align: top;\n",
       "    }\n",
       "\n",
       "    .dataframe thead th {\n",
       "        text-align: right;\n",
       "    }\n",
       "</style>\n",
       "<table border=\"1\" class=\"dataframe\">\n",
       "  <thead>\n",
       "    <tr style=\"text-align: right;\">\n",
       "      <th></th>\n",
       "      <th>Order ID</th>\n",
       "      <th>Buyer</th>\n",
       "      <th>Gig Title</th>\n",
       "      <th>Amount</th>\n",
       "      <th>Currency</th>\n",
       "      <th>Date</th>\n",
       "      <th>Type</th>\n",
       "    </tr>\n",
       "  </thead>\n",
       "  <tbody>\n",
       "    <tr>\n",
       "      <th>8</th>\n",
       "      <td>Not Available</td>\n",
       "      <td>matthiasjaco147</td>\n",
       "      <td>Tip</td>\n",
       "      <td>8.0</td>\n",
       "      <td>USD</td>\n",
       "      <td>2022-10-17</td>\n",
       "      <td>Order Revenue</td>\n",
       "    </tr>\n",
       "    <tr>\n",
       "      <th>9</th>\n",
       "      <td>FO1F0371E145</td>\n",
       "      <td>matthiasjaco147</td>\n",
       "      <td>design an amazing  word art or put words in an...</td>\n",
       "      <td>24.0</td>\n",
       "      <td>USD</td>\n",
       "      <td>2022-10-13</td>\n",
       "      <td>Order Revenue</td>\n",
       "    </tr>\n",
       "    <tr>\n",
       "      <th>10</th>\n",
       "      <td>Not Available</td>\n",
       "      <td>matthiasjaco147</td>\n",
       "      <td>Tip</td>\n",
       "      <td>8.0</td>\n",
       "      <td>USD</td>\n",
       "      <td>2022-10-13</td>\n",
       "      <td>Order Revenue</td>\n",
       "    </tr>\n",
       "    <tr>\n",
       "      <th>11</th>\n",
       "      <td>FO4F020C97C2</td>\n",
       "      <td>colincrest</td>\n",
       "      <td>design an amazing  word art or put words in an...</td>\n",
       "      <td>12.0</td>\n",
       "      <td>USD</td>\n",
       "      <td>2022-10-13</td>\n",
       "      <td>Order Revenue</td>\n",
       "    </tr>\n",
       "    <tr>\n",
       "      <th>12</th>\n",
       "      <td>FO61DFFCC43C6</td>\n",
       "      <td>matthiasjaco147</td>\n",
       "      <td>design an amazing  word art or put words in an...</td>\n",
       "      <td>12.0</td>\n",
       "      <td>USD</td>\n",
       "      <td>2022-10-11</td>\n",
       "      <td>Order Revenue</td>\n",
       "    </tr>\n",
       "    <tr>\n",
       "      <th>...</th>\n",
       "      <td>...</td>\n",
       "      <td>...</td>\n",
       "      <td>...</td>\n",
       "      <td>...</td>\n",
       "      <td>...</td>\n",
       "      <td>...</td>\n",
       "      <td>...</td>\n",
       "    </tr>\n",
       "    <tr>\n",
       "      <th>221</th>\n",
       "      <td>FO14806A3B81</td>\n",
       "      <td>absvarkey</td>\n",
       "      <td>do amazing and beautiful word art and word clo...</td>\n",
       "      <td>4.0</td>\n",
       "      <td>USD</td>\n",
       "      <td>2022-01-04</td>\n",
       "      <td>Order Revenue</td>\n",
       "    </tr>\n",
       "    <tr>\n",
       "      <th>222</th>\n",
       "      <td>Not Available</td>\n",
       "      <td>ciaoollie</td>\n",
       "      <td>Tip</td>\n",
       "      <td>4.0</td>\n",
       "      <td>USD</td>\n",
       "      <td>2022-01-03</td>\n",
       "      <td>Order Revenue</td>\n",
       "    </tr>\n",
       "    <tr>\n",
       "      <th>223</th>\n",
       "      <td>FO6167F7EE384</td>\n",
       "      <td>sjduncan610</td>\n",
       "      <td>design an amazing  word art or put words in an...</td>\n",
       "      <td>24.0</td>\n",
       "      <td>USD</td>\n",
       "      <td>2022-01-03</td>\n",
       "      <td>Order Revenue</td>\n",
       "    </tr>\n",
       "    <tr>\n",
       "      <th>224</th>\n",
       "      <td>FO7167EEDFF03</td>\n",
       "      <td>ciaoollie</td>\n",
       "      <td>design an amazing  word art or put words in an...</td>\n",
       "      <td>12.0</td>\n",
       "      <td>USD</td>\n",
       "      <td>2022-01-02</td>\n",
       "      <td>Order Revenue</td>\n",
       "    </tr>\n",
       "    <tr>\n",
       "      <th>225</th>\n",
       "      <td>FO4167E41B386</td>\n",
       "      <td>ciaoollie</td>\n",
       "      <td>design an amazing  word art or put words in an...</td>\n",
       "      <td>4.0</td>\n",
       "      <td>USD</td>\n",
       "      <td>2022-01-02</td>\n",
       "      <td>Order Revenue</td>\n",
       "    </tr>\n",
       "  </tbody>\n",
       "</table>\n",
       "<p>106 rows × 7 columns</p>\n",
       "</div>"
      ],
      "text/plain": [
       "          Order ID            Buyer  \\\n",
       "8    Not Available  matthiasjaco147   \n",
       "9     FO1F0371E145  matthiasjaco147   \n",
       "10   Not Available  matthiasjaco147   \n",
       "11    FO4F020C97C2       colincrest   \n",
       "12   FO61DFFCC43C6  matthiasjaco147   \n",
       "..             ...              ...   \n",
       "221   FO14806A3B81        absvarkey   \n",
       "222  Not Available        ciaoollie   \n",
       "223  FO6167F7EE384      sjduncan610   \n",
       "224  FO7167EEDFF03        ciaoollie   \n",
       "225  FO4167E41B386        ciaoollie   \n",
       "\n",
       "                                             Gig Title  Amount Currency  \\\n",
       "8                                                  Tip     8.0      USD   \n",
       "9    design an amazing  word art or put words in an...    24.0      USD   \n",
       "10                                                 Tip     8.0      USD   \n",
       "11   design an amazing  word art or put words in an...    12.0      USD   \n",
       "12   design an amazing  word art or put words in an...    12.0      USD   \n",
       "..                                                 ...     ...      ...   \n",
       "221  do amazing and beautiful word art and word clo...     4.0      USD   \n",
       "222                                                Tip     4.0      USD   \n",
       "223  design an amazing  word art or put words in an...    24.0      USD   \n",
       "224  design an amazing  word art or put words in an...    12.0      USD   \n",
       "225  design an amazing  word art or put words in an...     4.0      USD   \n",
       "\n",
       "           Date           Type  \n",
       "8    2022-10-17  Order Revenue  \n",
       "9    2022-10-13  Order Revenue  \n",
       "10   2022-10-13  Order Revenue  \n",
       "11   2022-10-13  Order Revenue  \n",
       "12   2022-10-11  Order Revenue  \n",
       "..          ...            ...  \n",
       "221  2022-01-04  Order Revenue  \n",
       "222  2022-01-03  Order Revenue  \n",
       "223  2022-01-03  Order Revenue  \n",
       "224  2022-01-02  Order Revenue  \n",
       "225  2022-01-02  Order Revenue  \n",
       "\n",
       "[106 rows x 7 columns]"
      ]
     },
     "execution_count": 35,
     "metadata": {},
     "output_type": "execute_result"
    }
   ],
   "source": [
    "data"
   ]
  },
  {
   "cell_type": "code",
   "execution_count": 36,
   "metadata": {},
   "outputs": [
    {
     "data": {
      "text/plain": [
       "1440.3999999999999"
      ]
     },
     "execution_count": 36,
     "metadata": {},
     "output_type": "execute_result"
    }
   ],
   "source": [
    "data['Amount'].sum()"
   ]
  },
  {
   "cell_type": "code",
   "execution_count": 37,
   "metadata": {},
   "outputs": [
    {
     "data": {
      "text/plain": [
       "8      2022-10-17\n",
       "9      2022-10-13\n",
       "10     2022-10-13\n",
       "11     2022-10-13\n",
       "12     2022-10-11\n",
       "          ...    \n",
       "221    2022-01-04\n",
       "222    2022-01-03\n",
       "223    2022-01-03\n",
       "224    2022-01-02\n",
       "225    2022-01-02\n",
       "Name: Date, Length: 106, dtype: object"
      ]
     },
     "execution_count": 37,
     "metadata": {},
     "output_type": "execute_result"
    }
   ],
   "source": [
    "data['Date']"
   ]
  },
  {
   "cell_type": "code",
   "execution_count": 38,
   "metadata": {},
   "outputs": [],
   "source": [
    "#extracting year\n",
    "month = data[\"Date\"].values\n",
    "month = [my_str.split(\"-\")[1] for my_str in month]\n",
    "data[\"Month\"] = month"
   ]
  },
  {
   "cell_type": "code",
   "execution_count": 39,
   "metadata": {},
   "outputs": [
    {
     "data": {
      "text/html": [
       "<div>\n",
       "<style scoped>\n",
       "    .dataframe tbody tr th:only-of-type {\n",
       "        vertical-align: middle;\n",
       "    }\n",
       "\n",
       "    .dataframe tbody tr th {\n",
       "        vertical-align: top;\n",
       "    }\n",
       "\n",
       "    .dataframe thead th {\n",
       "        text-align: right;\n",
       "    }\n",
       "</style>\n",
       "<table border=\"1\" class=\"dataframe\">\n",
       "  <thead>\n",
       "    <tr style=\"text-align: right;\">\n",
       "      <th></th>\n",
       "      <th>Order ID</th>\n",
       "      <th>Buyer</th>\n",
       "      <th>Gig Title</th>\n",
       "      <th>Amount</th>\n",
       "      <th>Currency</th>\n",
       "      <th>Date</th>\n",
       "      <th>Type</th>\n",
       "      <th>Month</th>\n",
       "    </tr>\n",
       "  </thead>\n",
       "  <tbody>\n",
       "    <tr>\n",
       "      <th>8</th>\n",
       "      <td>Not Available</td>\n",
       "      <td>matthiasjaco147</td>\n",
       "      <td>Tip</td>\n",
       "      <td>8.0</td>\n",
       "      <td>USD</td>\n",
       "      <td>2022-10-17</td>\n",
       "      <td>Order Revenue</td>\n",
       "      <td>10</td>\n",
       "    </tr>\n",
       "    <tr>\n",
       "      <th>9</th>\n",
       "      <td>FO1F0371E145</td>\n",
       "      <td>matthiasjaco147</td>\n",
       "      <td>design an amazing  word art or put words in an...</td>\n",
       "      <td>24.0</td>\n",
       "      <td>USD</td>\n",
       "      <td>2022-10-13</td>\n",
       "      <td>Order Revenue</td>\n",
       "      <td>10</td>\n",
       "    </tr>\n",
       "    <tr>\n",
       "      <th>10</th>\n",
       "      <td>Not Available</td>\n",
       "      <td>matthiasjaco147</td>\n",
       "      <td>Tip</td>\n",
       "      <td>8.0</td>\n",
       "      <td>USD</td>\n",
       "      <td>2022-10-13</td>\n",
       "      <td>Order Revenue</td>\n",
       "      <td>10</td>\n",
       "    </tr>\n",
       "    <tr>\n",
       "      <th>11</th>\n",
       "      <td>FO4F020C97C2</td>\n",
       "      <td>colincrest</td>\n",
       "      <td>design an amazing  word art or put words in an...</td>\n",
       "      <td>12.0</td>\n",
       "      <td>USD</td>\n",
       "      <td>2022-10-13</td>\n",
       "      <td>Order Revenue</td>\n",
       "      <td>10</td>\n",
       "    </tr>\n",
       "    <tr>\n",
       "      <th>12</th>\n",
       "      <td>FO61DFFCC43C6</td>\n",
       "      <td>matthiasjaco147</td>\n",
       "      <td>design an amazing  word art or put words in an...</td>\n",
       "      <td>12.0</td>\n",
       "      <td>USD</td>\n",
       "      <td>2022-10-11</td>\n",
       "      <td>Order Revenue</td>\n",
       "      <td>10</td>\n",
       "    </tr>\n",
       "    <tr>\n",
       "      <th>...</th>\n",
       "      <td>...</td>\n",
       "      <td>...</td>\n",
       "      <td>...</td>\n",
       "      <td>...</td>\n",
       "      <td>...</td>\n",
       "      <td>...</td>\n",
       "      <td>...</td>\n",
       "      <td>...</td>\n",
       "    </tr>\n",
       "    <tr>\n",
       "      <th>221</th>\n",
       "      <td>FO14806A3B81</td>\n",
       "      <td>absvarkey</td>\n",
       "      <td>do amazing and beautiful word art and word clo...</td>\n",
       "      <td>4.0</td>\n",
       "      <td>USD</td>\n",
       "      <td>2022-01-04</td>\n",
       "      <td>Order Revenue</td>\n",
       "      <td>01</td>\n",
       "    </tr>\n",
       "    <tr>\n",
       "      <th>222</th>\n",
       "      <td>Not Available</td>\n",
       "      <td>ciaoollie</td>\n",
       "      <td>Tip</td>\n",
       "      <td>4.0</td>\n",
       "      <td>USD</td>\n",
       "      <td>2022-01-03</td>\n",
       "      <td>Order Revenue</td>\n",
       "      <td>01</td>\n",
       "    </tr>\n",
       "    <tr>\n",
       "      <th>223</th>\n",
       "      <td>FO6167F7EE384</td>\n",
       "      <td>sjduncan610</td>\n",
       "      <td>design an amazing  word art or put words in an...</td>\n",
       "      <td>24.0</td>\n",
       "      <td>USD</td>\n",
       "      <td>2022-01-03</td>\n",
       "      <td>Order Revenue</td>\n",
       "      <td>01</td>\n",
       "    </tr>\n",
       "    <tr>\n",
       "      <th>224</th>\n",
       "      <td>FO7167EEDFF03</td>\n",
       "      <td>ciaoollie</td>\n",
       "      <td>design an amazing  word art or put words in an...</td>\n",
       "      <td>12.0</td>\n",
       "      <td>USD</td>\n",
       "      <td>2022-01-02</td>\n",
       "      <td>Order Revenue</td>\n",
       "      <td>01</td>\n",
       "    </tr>\n",
       "    <tr>\n",
       "      <th>225</th>\n",
       "      <td>FO4167E41B386</td>\n",
       "      <td>ciaoollie</td>\n",
       "      <td>design an amazing  word art or put words in an...</td>\n",
       "      <td>4.0</td>\n",
       "      <td>USD</td>\n",
       "      <td>2022-01-02</td>\n",
       "      <td>Order Revenue</td>\n",
       "      <td>01</td>\n",
       "    </tr>\n",
       "  </tbody>\n",
       "</table>\n",
       "<p>106 rows × 8 columns</p>\n",
       "</div>"
      ],
      "text/plain": [
       "          Order ID            Buyer  \\\n",
       "8    Not Available  matthiasjaco147   \n",
       "9     FO1F0371E145  matthiasjaco147   \n",
       "10   Not Available  matthiasjaco147   \n",
       "11    FO4F020C97C2       colincrest   \n",
       "12   FO61DFFCC43C6  matthiasjaco147   \n",
       "..             ...              ...   \n",
       "221   FO14806A3B81        absvarkey   \n",
       "222  Not Available        ciaoollie   \n",
       "223  FO6167F7EE384      sjduncan610   \n",
       "224  FO7167EEDFF03        ciaoollie   \n",
       "225  FO4167E41B386        ciaoollie   \n",
       "\n",
       "                                             Gig Title  Amount Currency  \\\n",
       "8                                                  Tip     8.0      USD   \n",
       "9    design an amazing  word art or put words in an...    24.0      USD   \n",
       "10                                                 Tip     8.0      USD   \n",
       "11   design an amazing  word art or put words in an...    12.0      USD   \n",
       "12   design an amazing  word art or put words in an...    12.0      USD   \n",
       "..                                                 ...     ...      ...   \n",
       "221  do amazing and beautiful word art and word clo...     4.0      USD   \n",
       "222                                                Tip     4.0      USD   \n",
       "223  design an amazing  word art or put words in an...    24.0      USD   \n",
       "224  design an amazing  word art or put words in an...    12.0      USD   \n",
       "225  design an amazing  word art or put words in an...     4.0      USD   \n",
       "\n",
       "           Date           Type Month  \n",
       "8    2022-10-17  Order Revenue    10  \n",
       "9    2022-10-13  Order Revenue    10  \n",
       "10   2022-10-13  Order Revenue    10  \n",
       "11   2022-10-13  Order Revenue    10  \n",
       "12   2022-10-11  Order Revenue    10  \n",
       "..          ...            ...   ...  \n",
       "221  2022-01-04  Order Revenue    01  \n",
       "222  2022-01-03  Order Revenue    01  \n",
       "223  2022-01-03  Order Revenue    01  \n",
       "224  2022-01-02  Order Revenue    01  \n",
       "225  2022-01-02  Order Revenue    01  \n",
       "\n",
       "[106 rows x 8 columns]"
      ]
     },
     "execution_count": 39,
     "metadata": {},
     "output_type": "execute_result"
    }
   ],
   "source": [
    "data"
   ]
  },
  {
   "cell_type": "code",
   "execution_count": 40,
   "metadata": {},
   "outputs": [
    {
     "data": {
      "text/plain": [
       "8      8.0\n",
       "9     24.0\n",
       "10     8.0\n",
       "11    12.0\n",
       "12    12.0\n",
       "Name: Amount, dtype: float64"
      ]
     },
     "execution_count": 40,
     "metadata": {},
     "output_type": "execute_result"
    }
   ],
   "source": [
    "data['Amount'].head()"
   ]
  },
  {
   "cell_type": "markdown",
   "metadata": {},
   "source": [
    "# Plot"
   ]
  },
  {
   "cell_type": "code",
   "execution_count": 41,
   "metadata": {},
   "outputs": [],
   "source": [
    "import matplotlib as mpl\n",
    "from matplotlib import pyplot as plt"
   ]
  },
  {
   "cell_type": "code",
   "execution_count": 42,
   "metadata": {},
   "outputs": [
    {
     "data": {
      "image/png": "[encoded data removed]",
      "text/plain": [
       "<Figure size 720x432 with 1 Axes>"
      ]
     },
     "metadata": {
      "needs_background": "light"
     },
     "output_type": "display_data"
    }
   ],
   "source": [
    "ax=data.groupby(['Month']).sum()['Amount']\n",
    "ax.plot(kind='bar', x='Month', y='Amount', title = 'Sales by Month', figsize = (10,6));"
   ]
  },
  {
   "cell_type": "code",
   "execution_count": 43,
   "metadata": {},
   "outputs": [],
   "source": [
    "import seaborn as sns"
   ]
  },
  {
   "cell_type": "code",
   "execution_count": 44,
   "metadata": {
    "scrolled": true
   },
   "outputs": [
    {
     "data": {
      "image/png": "[encoded data removed]",
      "text/plain": [
       "<Figure size 432x288 with 1 Axes>"
      ]
     },
     "metadata": {
      "needs_background": "light"
     },
     "output_type": "display_data"
    }
   ],
   "source": [
    "sns_plot=sns.barplot(x='Month',y='Amount',data=data,estimator=np.sum, ci = None)#,hue=data['Month'])"
   ]
  },
  {
   "cell_type": "code",
   "execution_count": 47,
   "metadata": {},
   "outputs": [],
   "source": [
    "fig = sns_plot.get_figure()\n",
    "fig.savefig('outGraph.jpg') "
   ]
  },
  {
   "cell_type": "code",
   "execution_count": 46,
   "metadata": {},
   "outputs": [
    {
     "data": {
      "text/plain": [
       "1704"
      ]
     },
     "execution_count": 46,
     "metadata": {},
     "output_type": "execute_result"
    }
   ],
   "source": [
    "1285+419"
   ]
  },
  {
   "cell_type": "code",
   "execution_count": null,
   "metadata": {},
   "outputs": [],
   "source": []
  },
  {
   "cell_type": "code",
   "execution_count": null,
   "metadata": {},
   "outputs": [],
   "source": []
  }
 ],
 "metadata": {
  "kernelspec": {
   "display_name": "Python 3 (ipykernel)",
   "language": "python",
   "name": "python3"
  },
  "language_info": {
   "codemirror_mode": {
    "name": "ipython",
    "version": 3
   },
   "file_extension": ".py",
   "mimetype": "text/x-python",
   "name": "python",
   "nbconvert_exporter": "python",
   "pygments_lexer": "ipython3",
   "version": "3.9.12"
  }
 },
 "nbformat": 4,
 "nbformat_minor": 4
}
